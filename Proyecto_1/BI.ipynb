{
 "cells": [
  {
   "cell_type": "markdown",
   "id": "c71071d0",
   "metadata": {},
   "source": [
    "# Proyecto ciencia de datos\n",
    "\n",
    "## Expectativas stakeholder:\n",
    "\"El objetivo de esta entrega es dar inicio a la creación del tablero en Power BI, que permitirá integrar y visualizar toda la información disponible. La idea es que este tablero se convierta en una herramienta dinámica, que pueda ser alimentada continuamente en el futuro con nuevos datos que vayamos recopilando.\"\n",
    "\n",
    "## Insumos entregados a corte 25 de septiembre de 2025\n",
    "\n",
    "* Cirugias_Hepaticas_consolidado.xlsx\n",
    "* Cirugias_Pancreaticas_Consolidado.xlsx\n",
    "* Colecistectomias_Laparoscopicas_consolidado.xlsx\n",
    "* Otras_cirugias_consolidado.xlsx\n",
    "* Trasplante_hepático_consolidado.xlsx\n",
    "\n"
   ]
  },
  {
   "cell_type": "markdown",
   "id": "a893d472",
   "metadata": {},
   "source": []
  }
 ],
 "metadata": {
  "language_info": {
   "name": "python"
  }
 },
 "nbformat": 4,
 "nbformat_minor": 5
}
